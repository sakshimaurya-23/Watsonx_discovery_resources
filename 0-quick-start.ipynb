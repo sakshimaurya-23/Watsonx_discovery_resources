{
 "cells": [
  {
   "cell_type": "markdown",
   "id": "7a8997c1",
   "metadata": {},
   "source": [
    "## Semantic Search quick start\n",
    "\n"
   ]
  },
  {
   "cell_type": "code",
   "execution_count": 18,
   "id": "10c6f0b3",
   "metadata": {},
   "outputs": [],
   "source": [
    "## elasticsearch Python client.\n",
    "! pip install -qU elasticsearch sentence-transformers==2.7.0"
   ]
  },
  {
   "cell_type": "code",
   "execution_count": 7,
   "id": "3cd36f86",
   "metadata": {},
   "outputs": [],
   "source": [
    "## using all-MiniLM-L6-v2, part of the sentence_transformers library\n",
    "\t\n",
    "from sentence_transformers import SentenceTransformer\n",
    "\n",
    "model = SentenceTransformer(\"all-MiniLM-L6-v2\")"
   ]
  },
  {
   "cell_type": "code",
   "execution_count": 6,
   "id": "ed0f298e",
   "metadata": {},
   "outputs": [
    {
     "name": "stdout",
     "output_type": "stream",
     "text": [
      "Collecting load_dotenv\n",
      "  Downloading load_dotenv-0.1.0-py3-none-any.whl.metadata (1.9 kB)\n",
      "Requirement already satisfied: python-dotenv in ./.venv/lib/python3.12/site-packages (from load_dotenv) (1.1.0)\n",
      "Downloading load_dotenv-0.1.0-py3-none-any.whl (7.2 kB)\n",
      "Installing collected packages: load_dotenv\n",
      "Successfully installed load_dotenv-0.1.0\n"
     ]
    }
   ],
   "source": [
    "! pip install load_dotenv"
   ]
  },
  {
   "cell_type": "code",
   "execution_count": 8,
   "id": "480519c0",
   "metadata": {},
   "outputs": [
    {
     "name": "stderr",
     "output_type": "stream",
     "text": [
      "/Users/sakshimaurya/Desktop/Watsonx/.venv/lib/python3.12/site-packages/elasticsearch/_sync/client/__init__.py:403: SecurityWarning: Connecting to 'https://be23f9e6-fa61-47f0-bf79-01d2024239a6.bn2a2uid0up8mv7mv2ig.databases.appdomain.cloud:31099' using TLS with verify_certs=False is insecure\n",
      "  _transport = transport_class(\n"
     ]
    }
   ],
   "source": [
    "# Initialize the Elasticsearch client\n",
    "from elasticsearch import Elasticsearch\n",
    "import os\n",
    "# from getpass import getpass\n",
    "from dotenv import load_dotenv\n",
    "\n",
    "load_dotenv() \n",
    "\n",
    "ELASTIC_URL = os.getenv(\"ELASTIC_URL\")\n",
    "ELASTIC_USER = os.getenv(\"ELASTIC_USER\")\n",
    "ELASTIC_PASSWORD = os.getenv(\"ELASTIC_PASSWORD\")\n",
    "\n",
    "# ELASTIC_CLOUD_ID = getpass(\"Elastic Cloud ID: \")\n",
    "# ELASTIC_API_KEY = getpass(\"Elastic Api Key: \")\n",
    "\n",
    "# Create the client instance\n",
    "client = Elasticsearch(\n",
    "        ELASTIC_URL,\n",
    "        basic_auth=(ELASTIC_USER, ELASTIC_PASSWORD),\n",
    "        verify_certs=False,\n",
    "        request_timeout=3600\n",
    "    )\n",
    "# client = Elasticsearch(\n",
    "#     # For local development\n",
    "#     # hosts=[\"http://localhost:9200\"]\n",
    "#     cloud_id=ELASTIC_CLOUD_ID,\n",
    "#     api_key=ELASTIC_API_KEY,\n",
    "# )"
   ]
  },
  {
   "cell_type": "code",
   "execution_count": 9,
   "id": "e3875e9b",
   "metadata": {},
   "outputs": [
    {
     "name": "stderr",
     "output_type": "stream",
     "text": [
      "/Users/sakshimaurya/Desktop/Watsonx/.venv/lib/python3.12/site-packages/urllib3/connectionpool.py:1097: InsecureRequestWarning: Unverified HTTPS request is being made to host 'be23f9e6-fa61-47f0-bf79-01d2024239a6.bn2a2uid0up8mv7mv2ig.databases.appdomain.cloud'. Adding certificate verification is strongly advised. See: https://urllib3.readthedocs.io/en/latest/advanced-usage.html#tls-warnings\n",
      "  warnings.warn(\n"
     ]
    },
    {
     "name": "stdout",
     "output_type": "stream",
     "text": [
      "{'name': 'm-2.be23f9e6-fa61-47f0-bf79-01d2024239a6.47f67992f07442f296dd5060c49cbb89.bn2a2uid0up8mv7mv2ig.databases.appdomain.cloud', 'cluster_name': 'be23f9e6-fa61-47f0-bf79-01d2024239a6', 'cluster_uuid': 'wQopVpKKQtSi3USdEY6gHQ', 'version': {'number': '8.15.0', 'build_flavor': 'default', 'build_type': 'tar', 'build_hash': '1a77947f34deddb41af25e6f0ddb8e830159c179', 'build_date': '2024-08-05T10:05:34.233336849Z', 'build_snapshot': False, 'lucene_version': '9.11.1', 'minimum_wire_compatibility_version': '7.17.0', 'minimum_index_compatibility_version': '7.0.0'}, 'tagline': 'You Know, for Search'}\n"
     ]
    }
   ],
   "source": [
    "print(client.info())\n"
   ]
  },
  {
   "cell_type": "code",
   "execution_count": null,
   "id": "9008e709",
   "metadata": {},
   "outputs": [],
   "source": [
    "# Index some test data\n",
    "\n",
    "#You index test data so you can practice querying, learn how Elasticsearch behaves, and make sure your client connection actually works.\n",
    "# We'll use a small index of books with the following fields:\n",
    "\n",
    "# title\n",
    "# authors\n",
    "# publish_date\n",
    "# num_reviews\n",
    "# publisher\n",
    "\n"
   ]
  },
  {
   "cell_type": "code",
   "execution_count": 12,
   "id": "a134d083",
   "metadata": {},
   "outputs": [
    {
     "name": "stderr",
     "output_type": "stream",
     "text": [
      "/Users/sakshimaurya/Desktop/Watsonx/.venv/lib/python3.12/site-packages/urllib3/connectionpool.py:1097: InsecureRequestWarning: Unverified HTTPS request is being made to host 'be23f9e6-fa61-47f0-bf79-01d2024239a6.bn2a2uid0up8mv7mv2ig.databases.appdomain.cloud'. Adding certificate verification is strongly advised. See: https://urllib3.readthedocs.io/en/latest/advanced-usage.html#tls-warnings\n",
      "  warnings.warn(\n"
     ]
    },
    {
     "name": "stdout",
     "output_type": "stream",
     "text": [
      "Custom indices:\n"
     ]
    }
   ],
   "source": [
    "# Checking if already index existed or not\n",
    "\n",
    "# Get all indices in JSON format\n",
    "indices = client.cat.indices(format=\"json\")\n",
    "\n",
    "# Print only custom (non-system) indices\n",
    "print(\"Custom indices:\")\n",
    "for index in indices:\n",
    "    if not index[\"index\"].startswith(\".\"):  # Skip system indices (they start with '.')\n",
    "        print(index[\"index\"])\n"
   ]
  },
  {
   "cell_type": "code",
   "execution_count": null,
   "id": "1d0fcc42",
   "metadata": {},
   "outputs": [],
   "source": [
    "# client.indices.delete(index=\"book_index\", ignore_unavailable=True)\n",
    "\n",
    "# Part\t                                  Meaning\n",
    "# client.indices.delete\t              Delete an index in Elasticsearch\n",
    "# index=\"book_index\"\t                  The name of the index you want to delete (here, book_index)\n",
    "# ignore_unavailable=True\t              If the index does not exist, do not throw an error — just ignore\n",
    "\n"
   ]
  },
  {
   "cell_type": "code",
   "execution_count": 11,
   "id": "f9512396",
   "metadata": {},
   "outputs": [
    {
     "name": "stderr",
     "output_type": "stream",
     "text": [
      "/Users/sakshimaurya/Desktop/Watsonx/.venv/lib/python3.12/site-packages/urllib3/connectionpool.py:1097: InsecureRequestWarning: Unverified HTTPS request is being made to host 'be23f9e6-fa61-47f0-bf79-01d2024239a6.bn2a2uid0up8mv7mv2ig.databases.appdomain.cloud'. Adding certificate verification is strongly advised. See: https://urllib3.readthedocs.io/en/latest/advanced-usage.html#tls-warnings\n",
      "  warnings.warn(\n"
     ]
    },
    {
     "data": {
      "text/plain": [
       "ObjectApiResponse({'acknowledged': True})"
      ]
     },
     "execution_count": 11,
     "metadata": {},
     "output_type": "execute_result"
    }
   ],
   "source": [
    "# First ensure that you do not have a previously created index with the name book_index.\n",
    "\n",
    "client.indices.delete(index=\"book_index\", ignore_unavailable=True)"
   ]
  },
  {
   "cell_type": "code",
   "execution_count": 13,
   "id": "0168b353",
   "metadata": {},
   "outputs": [
    {
     "name": "stderr",
     "output_type": "stream",
     "text": [
      "/Users/sakshimaurya/Desktop/Watsonx/.venv/lib/python3.12/site-packages/urllib3/connectionpool.py:1097: InsecureRequestWarning: Unverified HTTPS request is being made to host 'be23f9e6-fa61-47f0-bf79-01d2024239a6.bn2a2uid0up8mv7mv2ig.databases.appdomain.cloud'. Adding certificate verification is strongly advised. See: https://urllib3.readthedocs.io/en/latest/advanced-usage.html#tls-warnings\n",
      "  warnings.warn(\n"
     ]
    },
    {
     "data": {
      "text/plain": [
       "ObjectApiResponse({'acknowledged': True, 'shards_acknowledged': True, 'index': 'book_index'})"
      ]
     },
     "execution_count": 13,
     "metadata": {},
     "output_type": "execute_result"
    }
   ],
   "source": [
    "## Create an elasticsearch index\n",
    "\n",
    "# ## You are telling Elasticsearch:\n",
    "\n",
    "# \"Hey, I'm creating a book_index where each document can store a 384-dimensional vector (called title_vector), and I want to search by similarity using cosine distance.\"\n",
    "# This is super useful for semantic search, AI embeddings search, recommendation systems, etc.\n",
    "\n",
    "\n",
    "# Define the mapping\n",
    "mappings = {\n",
    "    \"properties\": {\n",
    "        \"title_vector\": {\n",
    "            \"type\": \"dense_vector\",\n",
    "            \"dims\": 384,\n",
    "            \"index\": \"true\",\n",
    "            \"similarity\": \"cosine\",\n",
    "        }\n",
    "    }\n",
    "}\n",
    "\n",
    "# Create the index\n",
    "client.indices.create(index=\"book_index\", mappings=mappings)"
   ]
  },
  {
   "cell_type": "code",
   "execution_count": null,
   "id": "4a2230dd",
   "metadata": {},
   "outputs": [
    {
     "name": "stderr",
     "output_type": "stream",
     "text": [
      "/Users/sakshimaurya/Desktop/Watsonx/.venv/lib/python3.12/site-packages/urllib3/connectionpool.py:1097: InsecureRequestWarning: Unverified HTTPS request is being made to host 'be23f9e6-fa61-47f0-bf79-01d2024239a6.bn2a2uid0up8mv7mv2ig.databases.appdomain.cloud'. Adding certificate verification is strongly advised. See: https://urllib3.readthedocs.io/en/latest/advanced-usage.html#tls-warnings\n",
      "  warnings.warn(\n"
     ]
    },
    {
     "data": {
      "text/plain": [
       "ObjectApiResponse({'errors': False, 'took': 82902098, 'items': [{'index': {'_index': 'book_index', '_id': 'G4ejKJYBoDXFHpGrBmuf', '_version': 1, 'result': 'created', 'forced_refresh': True, '_shards': {'total': 2, 'successful': 2, 'failed': 0}, '_seq_no': 0, '_primary_term': 1, 'status': 201}}, {'index': {'_index': 'book_index', '_id': 'HIejKJYBoDXFHpGrBmuf', '_version': 1, 'result': 'created', 'forced_refresh': True, '_shards': {'total': 2, 'successful': 2, 'failed': 0}, '_seq_no': 1, '_primary_term': 1, 'status': 201}}, {'index': {'_index': 'book_index', '_id': 'HYejKJYBoDXFHpGrBmuf', '_version': 1, 'result': 'created', 'forced_refresh': True, '_shards': {'total': 2, 'successful': 2, 'failed': 0}, '_seq_no': 2, '_primary_term': 1, 'status': 201}}, {'index': {'_index': 'book_index', '_id': 'HoejKJYBoDXFHpGrBmuf', '_version': 1, 'result': 'created', 'forced_refresh': True, '_shards': {'total': 2, 'successful': 2, 'failed': 0}, '_seq_no': 3, '_primary_term': 1, 'status': 201}}, {'index': {'_index': 'book_index', '_id': 'H4ejKJYBoDXFHpGrBmuf', '_version': 1, 'result': 'created', 'forced_refresh': True, '_shards': {'total': 2, 'successful': 2, 'failed': 0}, '_seq_no': 4, '_primary_term': 1, 'status': 201}}, {'index': {'_index': 'book_index', '_id': 'IIejKJYBoDXFHpGrBmuf', '_version': 1, 'result': 'created', 'forced_refresh': True, '_shards': {'total': 2, 'successful': 2, 'failed': 0}, '_seq_no': 5, '_primary_term': 1, 'status': 201}}, {'index': {'_index': 'book_index', '_id': 'IYejKJYBoDXFHpGrBmuf', '_version': 1, 'result': 'created', 'forced_refresh': True, '_shards': {'total': 2, 'successful': 2, 'failed': 0}, '_seq_no': 6, '_primary_term': 1, 'status': 201}}, {'index': {'_index': 'book_index', '_id': 'IoejKJYBoDXFHpGrBmuf', '_version': 1, 'result': 'created', 'forced_refresh': True, '_shards': {'total': 2, 'successful': 2, 'failed': 0}, '_seq_no': 7, '_primary_term': 1, 'status': 201}}, {'index': {'_index': 'book_index', '_id': 'I4ejKJYBoDXFHpGrBmuf', '_version': 1, 'result': 'created', 'forced_refresh': True, '_shards': {'total': 2, 'successful': 2, 'failed': 0}, '_seq_no': 8, '_primary_term': 1, 'status': 201}}, {'index': {'_index': 'book_index', '_id': 'JIejKJYBoDXFHpGrBmuf', '_version': 1, 'result': 'created', 'forced_refresh': True, '_shards': {'total': 2, 'successful': 2, 'failed': 0}, '_seq_no': 9, '_primary_term': 1, 'status': 201}}]})"
      ]
     },
     "execution_count": 16,
     "metadata": {},
     "output_type": "execute_result"
    }
   ],
   "source": [
    "# Index test data\n",
    "\n",
    "import json\n",
    "from urllib.request import urlopen  ## Import a function to open URLs or file paths.\n",
    "\n",
    "# url = \"/Users/sakshimaurya/Desktop/Watsonx/data.json\"\n",
    "# response = urlopen(url)  ##Open the JSON file. ⚡ ⚠️ (Actually for a local file you should use open(url) — I'll explain this at the end.)\n",
    "# books = json.loads(response.read())  # Read the file contents and convert JSON into Python objects (list of dictionaries).\n",
    "\n",
    "# Correct way to open local file\n",
    "file_path = \"/Users/sakshimaurya/Desktop/Watsonx/data.json\"\n",
    "with open(file_path, \"r\") as f:\n",
    "    books = json.load(f)  # not json.loads(f.read()), because json.load(file_object) directly works\n",
    "\n",
    "\n",
    "operations = []   # Prepare a list to store bulk operations for Elasticsearch.\n",
    "for book in books: #Loop through each book dictionary.\n",
    "\n",
    "    operations = []\n",
    "for book in books:\n",
    "    # Add an 'index' operation metadata\n",
    "    operations.append({\"index\": {\"_index\": \"book_index\"}}) ##This creates the metadata line for the bulk API.\n",
    "# _index says \"insert the next document into the book_index index\".\n",
    "\n",
    "    # Generate embedding for title\n",
    "    book[\"title_vector\"] = model.encode(book[\"title\"]).tolist()\n",
    "    \n",
    "    # Add the actual document\n",
    "    operations.append(book)\n",
    "\n",
    "# Now bulk upload\n",
    "client.bulk(operations=operations, refresh=True)\n",
    "\n",
    "\n",
    "\n"
   ]
  },
  {
   "cell_type": "markdown",
   "id": "40fb23b3",
   "metadata": {},
   "source": [
    "# Aside: Pretty printing Elasticsearch responses"
   ]
  },
  {
   "cell_type": "code",
   "execution_count": 19,
   "id": "97d09940",
   "metadata": {},
   "outputs": [],
   "source": [
    "def pretty_response(response):\n",
    "    if len(response[\"hits\"][\"hits\"]) == 0: ## Checks if there are no search results. response[\"hits\"][\"hits\"] is a list of documents that matched your search. If the length is 0, it means no documents matched.\n",
    "        print(\"Your search returned no results.\")\n",
    "    else:\n",
    "        for hit in response[\"hits\"][\"hits\"]:  ## Loop over each document (hit) returned by the search.\n",
    "            id = hit[\"_id\"]  ## Get the document ID (_id) assigned by Elasticsearch.\n",
    "            publication_date = hit[\"_source\"][\"publish_date\"] ## Extract the publish date of the document from its _source. _source contains the actual fields you indexed (title, authors, publish_date, etc.).\n",
    "            score = hit[\"_score\"] ## Get the relevance score (_score) assigned by Elasticsearch. Higher score = better match.\n",
    "            title = hit[\"_source\"][\"title\"]  ## Extract the title of the document.\n",
    "            summary = hit[\"_source\"][\"summary\"]  ## Extract the summary of the document.\n",
    "            publisher = hit[\"_source\"][\"publisher\"] ## Extract the publisher of the book.\n",
    "            num_reviews = hit[\"_source\"][\"num_reviews\"] ## Extract the number of reviews the book has.\n",
    "            authors = hit[\"_source\"][\"authors\"]  ## Extract the list of authors.\n",
    "            pretty_output = f\"\\nID: {id}\\nPublication date: {publication_date}\\nTitle: {title}\\nSummary: {summary}\\nPublisher: {publisher}\\nReviews: {num_reviews}\\nAuthors: {authors}\\nScore: {score}\" ## Create a nicely formatted string (pretty_output) showing all the information.\n",
    "            print(pretty_output)"
   ]
  },
  {
   "cell_type": "markdown",
   "id": "808b33fd",
   "metadata": {},
   "source": [
    "# Making queries"
   ]
  },
  {
   "cell_type": "code",
   "execution_count": 20,
   "id": "9476c2f9",
   "metadata": {},
   "outputs": [
    {
     "name": "stderr",
     "output_type": "stream",
     "text": [
      "/Users/sakshimaurya/Desktop/Watsonx/.venv/lib/python3.12/site-packages/urllib3/connectionpool.py:1097: InsecureRequestWarning: Unverified HTTPS request is being made to host 'be23f9e6-fa61-47f0-bf79-01d2024239a6.bn2a2uid0up8mv7mv2ig.databases.appdomain.cloud'. Adding certificate verification is strongly advised. See: https://urllib3.readthedocs.io/en/latest/advanced-usage.html#tls-warnings\n",
      "  warnings.warn(\n"
     ]
    },
    {
     "name": "stdout",
     "output_type": "stream",
     "text": [
      "\n",
      "ID: I4ejKJYBoDXFHpGrBmuf\n",
      "Publication date: 2008-05-15\n",
      "Title: JavaScript: The Good Parts\n",
      "Summary: A deep dive into the parts of JavaScript that are essential to writing maintainable code\n",
      "Publisher: oreilly\n",
      "Reviews: 51\n",
      "Authors: ['douglas crockford']\n",
      "Score: 0.8051703\n",
      "\n",
      "ID: H4ejKJYBoDXFHpGrBmuf\n",
      "Publication date: 2015-03-27\n",
      "Title: You Don't Know JS: Up & Going\n",
      "Summary: Introduction to JavaScript and programming as a whole\n",
      "Publisher: oreilly\n",
      "Reviews: 36\n",
      "Authors: ['kyle simpson']\n",
      "Score: 0.69864607\n",
      "\n",
      "ID: IIejKJYBoDXFHpGrBmuf\n",
      "Publication date: 2018-12-04\n",
      "Title: Eloquent JavaScript\n",
      "Summary: A modern introduction to programming\n",
      "Publisher: no starch press\n",
      "Reviews: 38\n",
      "Authors: ['marijn haverbeke']\n",
      "Score: 0.679554\n",
      "\n",
      "ID: G4ejKJYBoDXFHpGrBmuf\n",
      "Publication date: 2019-10-29\n",
      "Title: The Pragmatic Programmer: Your Journey to Mastery\n",
      "Summary: A guide to pragmatic programming for software engineers and developers\n",
      "Publisher: addison-wesley\n",
      "Reviews: 30\n",
      "Authors: ['andrew hunt', 'david thomas']\n",
      "Score: 0.6211877\n",
      "\n",
      "ID: JIejKJYBoDXFHpGrBmuf\n",
      "Publication date: 2012-06-27\n",
      "Title: Introduction to the Theory of Computation\n",
      "Summary: Introduction to the theory of computation and complexity theory\n",
      "Publisher: cengage learning\n",
      "Reviews: 33\n",
      "Authors: ['michael sipser']\n",
      "Score: 0.6009157\n",
      "\n",
      "ID: IoejKJYBoDXFHpGrBmuf\n",
      "Publication date: 2011-05-13\n",
      "Title: The Clean Coder: A Code of Conduct for Professional Programmers\n",
      "Summary: A guide to professional conduct in the field of software engineering\n",
      "Publisher: prentice hall\n",
      "Reviews: 20\n",
      "Authors: ['robert c. martin']\n",
      "Score: 0.57167315\n",
      "\n",
      "ID: IYejKJYBoDXFHpGrBmuf\n",
      "Publication date: 1994-10-31\n",
      "Title: Design Patterns: Elements of Reusable Object-Oriented Software\n",
      "Summary: Guide to design patterns that can be used in any object-oriented language\n",
      "Publisher: addison-wesley\n",
      "Reviews: 45\n",
      "Authors: ['erich gamma', 'richard helm', 'ralph johnson', 'john vlissides']\n",
      "Score: 0.5672388\n",
      "\n",
      "ID: HYejKJYBoDXFHpGrBmuf\n",
      "Publication date: 2020-04-06\n",
      "Title: Artificial Intelligence: A Modern Approach\n",
      "Summary: Comprehensive introduction to the theory and practice of artificial intelligence\n",
      "Publisher: pearson\n",
      "Reviews: 39\n",
      "Authors: ['stuart russell', 'peter norvig']\n",
      "Score: 0.56092453\n",
      "\n",
      "ID: HoejKJYBoDXFHpGrBmuf\n",
      "Publication date: 2008-08-11\n",
      "Title: Clean Code: A Handbook of Agile Software Craftsmanship\n",
      "Summary: A guide to writing code that is easy to read, understand and maintain\n",
      "Publisher: prentice hall\n",
      "Reviews: 55\n",
      "Authors: ['robert c. martin']\n",
      "Score: 0.54243636\n",
      "\n",
      "ID: HIejKJYBoDXFHpGrBmuf\n",
      "Publication date: 2019-05-03\n",
      "Title: Python Crash Course\n",
      "Summary: A fast-paced, no-nonsense guide to programming in Python\n",
      "Publisher: no starch press\n",
      "Reviews: 42\n",
      "Authors: ['eric matthes']\n",
      "Score: 0.5266006\n"
     ]
    }
   ],
   "source": [
    "response = client.search(  ## You are performing a search query in your Elasticsearch cluster.\n",
    "    index=\"book_index\",   ## You are searching inside the book_index index (the one you created earlier).\n",
    "    knn={        ## Instead of a normal keyword search, you are doing a KNN (k-nearest neighbors) vector search. This is semantic search — finding documents similar based on meaning rather than keywords.\n",
    "       \n",
    "        \"field\": \"title_vector\",  ## Search against the title_vector field (the embeddings you stored for titles).\n",
    "        \"query_vector\": model.encode(\"javascript books\"), ## You encode the text \"javascript books\" into a vector using your model. (The model could be Sentence Transformers or similar.)\n",
    "        \"k\": 10,  ## Return the top 10 most similar documents (smallest distance or highest similarity).\n",
    "\n",
    "        \"num_candidates\": 100,  ## From 100 candidate vectors, Elasticsearch will pick the best 10. (Makes search faster without checking every single document.)\n",
    "    },\n",
    ")\n",
    "\n",
    "pretty_response(response)"
   ]
  },
  {
   "cell_type": "markdown",
   "id": "dc3d7405",
   "metadata": {},
   "source": [
    "# Filtering\n",
    "\n",
    "Filter context is mostly used for filtering structured data. For example, use filter context to answer questions like:\n",
    "\n",
    "Does this timestamp fall into the range 2015 to 2016?\n",
    "Is the status field set to \"published\"?\n",
    "Filter context is in effect whenever a query clause is passed to a filter parameter, such as the filter or must_not parameters in a bool query."
   ]
  },
  {
   "cell_type": "code",
   "execution_count": null,
   "id": "272a08a3",
   "metadata": {},
   "outputs": [],
   "source": [
    "## Keyword Filtering\n",
    "\n",
    "# This is an example of adding a keyword filter to the query.\n",
    "\n",
    "# The example retrieves all the top books that are similar to \"javascript books\" based on their title vectors, and also Addison-Wesley as publisher.\n",
    "\n",
    "response = client.search(\n",
    "    index=\"book_index\",\n",
    "    knn={\n",
    "        \"field\": \"title_vector\",\n",
    "        \"query_vector\": model.encode(\"javascript books\"),\n",
    "        \"k\": 10,\n",
    "        \"num_candidates\": 100,\n",
    "        \"filter\": {\"term\": {\"publisher.keyword\": \"addison-wesley\"}},\n",
    "    },\n",
    ")\n",
    "\n",
    "pretty_response(response)"
   ]
  },
  {
   "cell_type": "code",
   "execution_count": null,
   "id": "753aedaa",
   "metadata": {},
   "outputs": [],
   "source": []
  }
 ],
 "metadata": {
  "kernelspec": {
   "display_name": ".venv",
   "language": "python",
   "name": "python3"
  },
  "language_info": {
   "codemirror_mode": {
    "name": "ipython",
    "version": 3
   },
   "file_extension": ".py",
   "mimetype": "text/x-python",
   "name": "python",
   "nbconvert_exporter": "python",
   "pygments_lexer": "ipython3",
   "version": "3.12.7"
  }
 },
 "nbformat": 4,
 "nbformat_minor": 5
}
