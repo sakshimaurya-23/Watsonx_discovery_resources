{
 "cells": [
  {
   "cell_type": "markdown",
   "id": "d289d56c",
   "metadata": {},
   "source": [
    "# Requiments"
   ]
  },
  {
   "cell_type": "code",
   "execution_count": null,
   "id": "fca74ffb",
   "metadata": {},
   "outputs": [],
   "source": [
    "!pip install -U -q eland==8.12.1\n",
    "!pip install tqdm\n",
    "!pip install torch\n",
    "!pip install transformers\n",
    "!pip install sentence-transformers\n",
    "!pip install sentencepiece\n",
    "!pip install python-dotenv"
   ]
  },
  {
   "cell_type": "markdown",
   "id": "659a2a37",
   "metadata": {},
   "source": [
    "# imports "
   ]
  },
  {
   "cell_type": "code",
   "execution_count": null,
   "id": "ae0a7a39",
   "metadata": {},
   "outputs": [],
   "source": [
    "import os\n"
   ]
  },
  {
   "cell_type": "markdown",
   "id": "16ead000",
   "metadata": {},
   "source": [
    "# Model name declaration"
   ]
  },
  {
   "cell_type": "code",
   "execution_count": null,
   "id": "444e3a9c",
   "metadata": {},
   "outputs": [],
   "source": [
    "HF_MODEL_ID = \"intfloat/multilingual-e5-small\"\n",
    "WXD_MODEL_ID = \"intfloat__multilingual-e5-small\""
   ]
  },
  {
   "cell_type": "markdown",
   "id": "1fc29e55",
   "metadata": {},
   "source": [
    "# credentials "
   ]
  },
  {
   "cell_type": "code",
   "execution_count": null,
   "id": "e6db1acc",
   "metadata": {},
   "outputs": [],
   "source": [
    "WXD_URL=''\n",
    "WXD_USER=''\n",
    "WXD_PASSWORD=''"
   ]
  },
  {
   "cell_type": "markdown",
   "id": "6abd352f",
   "metadata": {},
   "source": [
    "## Importing model from hugging face to elastic search UI where in trained model section you will able to see the model "
   ]
  },
  {
   "cell_type": "code",
   "execution_count": null,
   "id": "a57156d7",
   "metadata": {},
   "outputs": [],
   "source": [
    "\n",
    "!eland_import_hub_model \\\n",
    "--url $WXD_URL \\\n",
    "--es-username $WXD_USER \\\n",
    "--es-password $WXD_PASSWORD \\\n",
    "--hub-model-id $HF_MODEL_ID \\\n",
    "--es-model-id $WXD_MODEL_ID \\\n",
    "--task-type text_embedding \\\n",
    "--clear-previous \\\n",
    "--insecure \\\n",
    "--start"
   ]
  }
 ],
 "metadata": {
  "language_info": {
   "name": "python"
  }
 },
 "nbformat": 4,
 "nbformat_minor": 5
}
